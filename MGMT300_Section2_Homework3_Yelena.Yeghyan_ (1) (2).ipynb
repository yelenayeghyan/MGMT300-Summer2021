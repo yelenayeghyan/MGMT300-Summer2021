{
 "cells": [
  {
   "cell_type": "markdown",
   "id": "2bdf7bc8",
   "metadata": {},
   "source": [
    "# Variables"
   ]
  },
  {
   "cell_type": "code",
   "execution_count": 1,
   "id": "14ec7e54",
   "metadata": {},
   "outputs": [
    {
     "name": "stdout",
     "output_type": "stream",
     "text": [
      "227.0\n"
     ]
    }
   ],
   "source": [
    "print(225+2.0)"
   ]
  },
  {
   "cell_type": "code",
   "execution_count": 2,
   "id": "6f272eb3",
   "metadata": {},
   "outputs": [
    {
     "data": {
      "text/plain": [
       "int"
      ]
     },
     "execution_count": 2,
     "metadata": {},
     "output_type": "execute_result"
    }
   ],
   "source": [
    "type(227)"
   ]
  },
  {
   "cell_type": "code",
   "execution_count": 3,
   "id": "eb4208ea",
   "metadata": {},
   "outputs": [
    {
     "data": {
      "text/plain": [
       "bool"
      ]
     },
     "execution_count": 3,
     "metadata": {},
     "output_type": "execute_result"
    }
   ],
   "source": [
    "230*2==2*230\n",
    "type(230*2==2*230)"
   ]
  },
  {
   "cell_type": "code",
   "execution_count": 4,
   "id": "a47dca89",
   "metadata": {},
   "outputs": [
    {
     "data": {
      "text/plain": [
       "1"
      ]
     },
     "execution_count": 4,
     "metadata": {},
     "output_type": "execute_result"
    }
   ],
   "source": [
    "round(1.056)"
   ]
  },
  {
   "cell_type": "code",
   "execution_count": 5,
   "id": "04776b8f",
   "metadata": {},
   "outputs": [
    {
     "data": {
      "text/plain": [
       "int"
      ]
     },
     "execution_count": 5,
     "metadata": {},
     "output_type": "execute_result"
    }
   ],
   "source": [
    "type(1)"
   ]
  },
  {
   "cell_type": "code",
   "execution_count": 6,
   "id": "bbd785cf",
   "metadata": {},
   "outputs": [
    {
     "data": {
      "text/plain": [
       "15"
      ]
     },
     "execution_count": 6,
     "metadata": {},
     "output_type": "execute_result"
    }
   ],
   "source": [
    "import math\n",
    "math.ceil(14.56)"
   ]
  },
  {
   "cell_type": "code",
   "execution_count": 7,
   "id": "f9892c57",
   "metadata": {},
   "outputs": [
    {
     "data": {
      "text/plain": [
       "int"
      ]
     },
     "execution_count": 7,
     "metadata": {},
     "output_type": "execute_result"
    }
   ],
   "source": [
    "type(15)"
   ]
  },
  {
   "cell_type": "code",
   "execution_count": 8,
   "id": "a0b9997b",
   "metadata": {},
   "outputs": [
    {
     "name": "stdout",
     "output_type": "stream",
     "text": [
      "Full Name of Moviegj\n",
      "Director Namenk\n",
      "Year of Productionjk\n"
     ]
    }
   ],
   "source": [
    "movie_name=input(\"Full Name of Movie\")\n",
    "director_name=input(\"Director Name\")\n",
    "production_year=input(\"Year of Production\")"
   ]
  },
  {
   "cell_type": "code",
   "execution_count": 9,
   "id": "295ad9dc",
   "metadata": {},
   "outputs": [
    {
     "name": "stdout",
     "output_type": "stream",
     "text": [
      " My favorite movie is gj, which was directed by nk and it was premiered in jk\n"
     ]
    }
   ],
   "source": [
    "print(f\" My favorite movie is {movie_name}, which was directed by {director_name} and it was premiered in {production_year}\")"
   ]
  },
  {
   "cell_type": "code",
   "execution_count": 10,
   "id": "a611f892",
   "metadata": {},
   "outputs": [
    {
     "name": "stdout",
     "output_type": "stream",
     "text": [
      "['SBUX', 'VWAGY', 'IBM', 'BABA', 'MCD']\n"
     ]
    }
   ],
   "source": [
    "Stocks=[]\n",
    "Stocks.append(\"SBUX\")\n",
    "Stocks.append(\"VWAGY\")\n",
    "Stocks.append(\"IBM\")\n",
    "Stocks.append(\"BABA\")\n",
    "Stocks.append(\"MCD\")\n",
    "print(Stocks)"
   ]
  },
  {
   "cell_type": "markdown",
   "id": "af648ab0",
   "metadata": {},
   "source": [
    "# If/For Loop"
   ]
  },
  {
   "cell_type": "code",
   "execution_count": 11,
   "id": "2393b086",
   "metadata": {},
   "outputs": [
    {
     "name": "stdout",
     "output_type": "stream",
     "text": [
      "25 is odd number\n"
     ]
    }
   ],
   "source": [
    "if(25%2)==0:\n",
    "    print(\"{0} is Even Number\".format(25))\n",
    "else:\n",
    "    print(\"{0} is odd number\".format(25))"
   ]
  },
  {
   "cell_type": "code",
   "execution_count": 12,
   "id": "7601624c",
   "metadata": {},
   "outputs": [],
   "source": [
    "wine_list=[\"Thomas Fogarty 2018 Razorback Vineyard Pinot Noir\", \"Migration 2018 Drum Canyon Vineyard Pinot Noir\", \"Zorah Voski 2018\", \"Curto Marco 2017 Arborina (Barolo)\",\"Calera 2018 Jensen Vineyard Pinot Noir\", \"Hin Areni Red 2014\"]\n",
    "wine_list1=[]"
   ]
  },
  {
   "cell_type": "code",
   "execution_count": 13,
   "id": "e8467edc",
   "metadata": {},
   "outputs": [
    {
     "data": {
      "text/plain": [
       "['Thomas Fogarty 2018 Razorback Vineyard Pinot Noir:  Pinot Noir',\n",
       " 'Migration 2018 Drum Canyon Vineyard Pinot Noir:  Pinot Noir',\n",
       " 'Zorah Voski 2018: Other',\n",
       " 'Curto Marco 2017 Arborina (Barolo): Other',\n",
       " 'Calera 2018 Jensen Vineyard Pinot Noir:  Pinot Noir',\n",
       " 'Hin Areni Red 2014:  Areni']"
      ]
     },
     "execution_count": 13,
     "metadata": {},
     "output_type": "execute_result"
    }
   ],
   "source": [
    "for i in wine_list:\n",
    "    if \"Pinot\" in i:\n",
    "        wine_list1.append(i + \":  Pinot Noir\")\n",
    "    elif \"Areni\" in i:\n",
    "        wine_list1.append(i + \":  Areni\")\n",
    "    else:\n",
    "        wine_list1.append(i + \": Other\")\n",
    "wine_list1"
   ]
  },
  {
   "cell_type": "markdown",
   "id": "4e7b9823",
   "metadata": {},
   "source": [
    "# Dictionaries"
   ]
  },
  {
   "cell_type": "code",
   "execution_count": 14,
   "id": "3555e1be",
   "metadata": {},
   "outputs": [],
   "source": [
    "dict_one={\"SBUX\":\"Starbucks\", \"MCD\":\"McDonald's Corporation\", \"IBM\":\"International Business Machines Corporation\", \"VWAGY\":\"Volkswagen\", \"BABA\":\"Alibaba Group Holding Limited\"}"
   ]
  },
  {
   "cell_type": "code",
   "execution_count": 15,
   "id": "7d254820",
   "metadata": {},
   "outputs": [
    {
     "name": "stdout",
     "output_type": "stream",
     "text": [
      "{'SBUX': 'Starbucks', 'MCD': \"McDonald's Corporation\", 'IBM': 'International Business Machines Corporation', 'VWAGY': 'Volkswagen', 'BABA': 'Alibaba Group Holding Limited'}\n"
     ]
    }
   ],
   "source": [
    "print(dict_one)"
   ]
  },
  {
   "cell_type": "markdown",
   "id": "68173251",
   "metadata": {},
   "source": [
    "# Functions"
   ]
  },
  {
   "cell_type": "code",
   "execution_count": 16,
   "id": "528e872f",
   "metadata": {},
   "outputs": [],
   "source": [
    "list=[-10,0,12,3,8,5,6,8,-3]"
   ]
  },
  {
   "cell_type": "code",
   "execution_count": 17,
   "id": "c8f4b44e",
   "metadata": {},
   "outputs": [
    {
     "data": {
      "text/plain": [
       "9"
      ]
     },
     "execution_count": 17,
     "metadata": {},
     "output_type": "execute_result"
    }
   ],
   "source": [
    "len(list)"
   ]
  },
  {
   "cell_type": "code",
   "execution_count": 18,
   "id": "0b4deecc",
   "metadata": {},
   "outputs": [
    {
     "name": "stdout",
     "output_type": "stream",
     "text": [
      "12\n"
     ]
    }
   ],
   "source": [
    "for i in range(len(list)):\n",
    "    for j in range(i+1,len(list)):\n",
    "        if list[i]>list[j]:\n",
    "            list[i],list[j]=list[j],list[i]\n",
    "print(list[-1])"
   ]
  },
  {
   "cell_type": "code",
   "execution_count": null,
   "id": "8512149b",
   "metadata": {},
   "outputs": [
    {
     "name": "stdout",
     "output_type": "stream",
     "text": [
      "Employee's Satisfaction Ratej\n",
      "Please enter numeric data\n",
      "Employee's Satisfaction Rate6\n",
      "Please use 1-5 range to rate your satisfaction\n",
      "Employee's Satisfaction Rate1\n",
      "Strongly dissatisfied\n",
      "Employee's Satisfaction Rate2\n",
      "Dissatisfied\n",
      "Employee's Satisfaction Rate3\n",
      "Neither dissatisfied nor satisfied\n",
      "Employee's Satisfaction Rate4\n",
      "Satisfied\n",
      "Employee's Satisfaction Rate4\n",
      "Satisfied\n",
      "Employee's Satisfaction Rate5\n",
      "Very satisfied\n"
     ]
    }
   ],
   "source": [
    "while True:\n",
    "    try:\n",
    "        rate=int(input(\"Employee's Satisfaction Rate\"))\n",
    "        if rate==1:\n",
    "            print(\"Strongly dissatisfied\")\n",
    "        elif rate==2:\n",
    "            print(\"Dissatisfied\")\n",
    "        elif rate==3:\n",
    "            print(\"Neither dissatisfied nor satisfied\")\n",
    "        elif rate==4:\n",
    "            print(\"Satisfied\")\n",
    "        elif rate==5:\n",
    "            print(\"Very satisfied\")\n",
    "        elif rate>5:\n",
    "            print(\"Please use 1-5 range to rate your satisfaction\")\n",
    "            \n",
    "    except:\n",
    "        print(\"Please enter numeric data\")"
   ]
  },
  {
   "cell_type": "markdown",
   "id": "f0c22e89",
   "metadata": {},
   "source": [
    "# Data"
   ]
  },
  {
   "cell_type": "code",
   "execution_count": null,
   "id": "b8cc97f5",
   "metadata": {},
   "outputs": [],
   "source": [
    "import pandas as pd"
   ]
  },
  {
   "cell_type": "code",
   "execution_count": null,
   "id": "6e996425",
   "metadata": {},
   "outputs": [],
   "source": [
    "Affairs=pd.read_excel(r\"C:\\Users\\User\\Desktop\\Affairs.xlsx\")\n",
    "print(Affairs)"
   ]
  },
  {
   "cell_type": "code",
   "execution_count": null,
   "id": "4c91f1e0",
   "metadata": {},
   "outputs": [],
   "source": [
    "Affairs.shape"
   ]
  },
  {
   "cell_type": "code",
   "execution_count": null,
   "id": "30525dd1",
   "metadata": {},
   "outputs": [],
   "source": [
    "for i in Affairs.columns:\n",
    "    print(i,'has',Affairs[i].isnull().sum(),' missing values')"
   ]
  },
  {
   "cell_type": "code",
   "execution_count": null,
   "id": "2079dc4f",
   "metadata": {},
   "outputs": [],
   "source": [
    "Affairs.isna().sum().sum()"
   ]
  },
  {
   "cell_type": "code",
   "execution_count": null,
   "id": "fa8c166d",
   "metadata": {},
   "outputs": [],
   "source": [
    "Affairs.isna().any().sum()"
   ]
  },
  {
   "cell_type": "code",
   "execution_count": null,
   "id": "555150f5",
   "metadata": {},
   "outputs": [],
   "source": [
    "num_data=Affairs.select_dtypes(exclude=['object'])\n",
    "num_data.info()"
   ]
  },
  {
   "cell_type": "code",
   "execution_count": null,
   "id": "d9bb3a2e",
   "metadata": {},
   "outputs": [],
   "source": [
    "nonnum_data=Affairs.select_dtypes(include=['object'])\n",
    "nonnum_data.info()"
   ]
  },
  {
   "cell_type": "code",
   "execution_count": null,
   "id": "e7afa90b",
   "metadata": {},
   "outputs": [],
   "source": [
    "id904=Affairs[Affairs[\"ID\"]==904]\n",
    "gender=id904[\"gender\"].values[0]\n",
    "ym=int(id904[\"years married\"].values[0])\n",
    "print(f\"The gender of this customer is {gender}. \\nThis customer has been married for {ym} years.\")"
   ]
  },
  {
   "cell_type": "code",
   "execution_count": null,
   "id": "71781a24",
   "metadata": {},
   "outputs": [],
   "source": [
    "print(Affairs.education.mean())"
   ]
  },
  {
   "cell_type": "code",
   "execution_count": null,
   "id": "42e523eb",
   "metadata": {},
   "outputs": [],
   "source": [
    "print(Affairs[\"years married\"].median())"
   ]
  },
  {
   "cell_type": "code",
   "execution_count": null,
   "id": "858ca05a",
   "metadata": {},
   "outputs": [],
   "source": [
    "Affairs[\"rating\"].quantile(0.75)"
   ]
  },
  {
   "cell_type": "code",
   "execution_count": null,
   "id": "6c6df117",
   "metadata": {},
   "outputs": [],
   "source": [
    "Affairs.groupby([\"affairs\"])[\"age\"].mean()"
   ]
  },
  {
   "cell_type": "code",
   "execution_count": null,
   "id": "d1e5f2f4",
   "metadata": {},
   "outputs": [],
   "source": [
    "Affairs[Affairs[\"affairs\"]==\"Yes\"].age.mean()"
   ]
  },
  {
   "cell_type": "code",
   "execution_count": null,
   "id": "dc7662ca",
   "metadata": {},
   "outputs": [],
   "source": [
    "for i in nonnum_data.columns:\n",
    "    print(\"\\n\")\n",
    "    print(i)\n",
    "    print(\"\\n\")\n",
    "    print(Affairs[i].value_counts())"
   ]
  },
  {
   "cell_type": "code",
   "execution_count": null,
   "id": "1b76d230",
   "metadata": {},
   "outputs": [],
   "source": [
    "for i in Affairs.columns:\n",
    "    if i==\"affairs\":\n",
    "        print(i,Affairs[i].unique())\n",
    "    elif i==\"gender\":\n",
    "        print(i,Affairs[i].unique())\n",
    "    elif i==\"children\":\n",
    "        print(i,Affairs[i].unique())"
   ]
  },
  {
   "cell_type": "code",
   "execution_count": null,
   "id": "2349f93b",
   "metadata": {},
   "outputs": [],
   "source": [
    "data_num = data_drop.select_dtypes(exclude = \"object\")\n",
    "data_obj = data_drop.select_dtypes(include = \"object\")"
   ]
  },
  {
   "cell_type": "markdown",
   "id": "d644838c",
   "metadata": {},
   "source": [
    "# Data Transformation "
   ]
  },
  {
   "cell_type": "code",
   "execution_count": null,
   "id": "cc197f31",
   "metadata": {},
   "outputs": [],
   "source": [
    "Affairs_clean=datadrop=Affairs.dropna()\n",
    "datadrop"
   ]
  },
  {
   "cell_type": "code",
   "execution_count": null,
   "id": "d76b9778",
   "metadata": {},
   "outputs": [],
   "source": [
    "Affairs_clean1=Affairs_clean.drop([\"ID\"],axis=1)\n",
    "Affairs_clean1.columns"
   ]
  },
  {
   "cell_type": "code",
   "execution_count": null,
   "id": "07bca877",
   "metadata": {},
   "outputs": [],
   "source": [
    "Affairs_clean1.shape"
   ]
  },
  {
   "cell_type": "code",
   "execution_count": null,
   "id": "c787681a",
   "metadata": {},
   "outputs": [],
   "source": [
    "Affairs_clean1.columns.str.replace(' ','_')"
   ]
  },
  {
   "cell_type": "code",
   "execution_count": null,
   "id": "b727096c",
   "metadata": {},
   "outputs": [],
   "source": [
    "data_num=Affairs_clean1.select_dtypes(exclude=[\"object\"])\n",
    "data_num"
   ]
  },
  {
   "cell_type": "code",
   "execution_count": null,
   "id": "164a4d4b",
   "metadata": {},
   "outputs": [],
   "source": [
    "data_obj=Affairs_clean1.select_dtypes(include=[\"object\"])\n",
    "data_obj"
   ]
  },
  {
   "cell_type": "markdown",
   "id": "776318c6",
   "metadata": {},
   "source": [
    "# Data Visualization "
   ]
  },
  {
   "cell_type": "code",
   "execution_count": null,
   "id": "5396a288",
   "metadata": {},
   "outputs": [],
   "source": [
    "import matplotlib.pyplot as plt"
   ]
  },
  {
   "cell_type": "code",
   "execution_count": null,
   "id": "f5f8fe46",
   "metadata": {},
   "outputs": [],
   "source": [
    "plt.figure(figsize=(10,6))\n",
    "\n",
    "Affairs.groupby(['affairs'])['age'].mean().plot(kind='bar')\n",
    "\n",
    "plt.xlabel('affairs') \n",
    "plt.ylabel('age')\n",
    "plt.title('Bar chart for average age and affairs') \n",
    "\n",
    "plt.show()"
   ]
  },
  {
   "cell_type": "code",
   "execution_count": null,
   "id": "68c2bfd9",
   "metadata": {},
   "outputs": [],
   "source": [
    "for i in data_num.columns:\n",
    "    plt.hist(data_num[i])\n",
    "    plt.show()"
   ]
  },
  {
   "cell_type": "code",
   "execution_count": null,
   "id": "44812d7a",
   "metadata": {},
   "outputs": [],
   "source": []
  },
  {
   "cell_type": "code",
   "execution_count": null,
   "id": "fbc9aa13",
   "metadata": {},
   "outputs": [],
   "source": []
  }
 ],
 "metadata": {
  "kernelspec": {
   "display_name": "Python 3",
   "language": "python",
   "name": "python3"
  },
  "language_info": {
   "codemirror_mode": {
    "name": "ipython",
    "version": 3
   },
   "file_extension": ".py",
   "mimetype": "text/x-python",
   "name": "python",
   "nbconvert_exporter": "python",
   "pygments_lexer": "ipython3",
   "version": "3.8.8"
  }
 },
 "nbformat": 4,
 "nbformat_minor": 5
}
